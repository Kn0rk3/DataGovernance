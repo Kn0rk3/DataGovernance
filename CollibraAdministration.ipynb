{
 "cells": [
  {
   "cell_type": "markdown",
   "metadata": {},
   "source": [
    "# Architecture\n"
   ]
  },
  {
   "cell_type": "markdown",
   "metadata": {},
   "source": [
    "## Overview\n",
    "DGC consists of following <b>components</b>:\n",
    "- Services\n",
    "    - DGC \n",
    "    - Repository \n",
    "    - Jobserver\n",
    "    - Monitoring\n",
    "- Console (used to manage the environments or instances)\n",
    "- Clients (Web interface, On-the-go, Connect)"
   ]
  },
  {
   "cell_type": "markdown",
   "metadata": {},
   "source": [
    "![title](ArchitectureEnvCollibra551.png \"ShowMyImage\")"
   ]
  },
  {
   "cell_type": "markdown",
   "metadata": {},
   "source": [
    "- Node is a server\n",
    "- Console can (should) be installed on different nodes (as shown), but can also run on the same node as repo and dgc service\n",
    "- Version of environments managed by one console has to be same"
   ]
  },
  {
   "cell_type": "markdown",
   "metadata": {},
   "source": [
    "### Internal Communication (between components)\n",
    "![title](InternalCommunication551.png \"ShowMyImage\")"
   ]
  },
  {
   "cell_type": "markdown",
   "metadata": {},
   "source": [
    "- Communication for Cloud solutions is done in https in default (on-premise can use it too, but not by default)\n",
    "- Every node of an environment is running an agent to communicate between console and component of DGC (DGC, repo or job service)\n",
    "- Assumption: Agent installation will be done automatically by every installation of a component on a node\n",
    "- DGC service, job service , repo service and agent are separated processes on the node"
   ]
  },
  {
   "cell_type": "markdown",
   "metadata": {},
   "source": [
    "<table style=\"width:100%\">\n",
    "  <tr>\n",
    "    <th>comm path</th>\n",
    "    <th>via</th> \n",
    "  </tr>\n",
    "  <tr>\n",
    "    <td> \n",
    "        <ul>\n",
    "          <li>Agent to Repository service </li>\n",
    "          <li>DGC service to Repository service</li>\n",
    "        </ul> \n",
    "    </td>\n",
    "    <td>Send SQL statements over JDBC, via port 4403.</td> \n",
    "  </tr>\n",
    "  <tr>\n",
    "    <td> \n",
    "        <ul>\n",
    "          <li>Agent to DGC service </li>\n",
    "        </ul> \n",
    "    </td>\n",
    "    <td>Send management-specific commands with a private REST interface\n",
    "(JMX REST) over HTTP, via port 4400.</td> \n",
    "  </tr>\n",
    "  <tr>\n",
    "    <td> \n",
    "        <ul>\n",
    "          <li>Collibra clients to Collibra DGC </li>\n",
    "        </ul> \n",
    "    </td>\n",
    "    <td>Access to Collibra DGC with the public REST interface (REST) over https</td> \n",
    "  </tr>\n",
    "   <tr>\n",
    "    <td> \n",
    "        <ul>\n",
    "          <li>Agent to Jobserver service </li>\n",
    "          <li>DGC service to Jobserver service </li>\n",
    "        </ul> \n",
    "    </td>\n",
    "    <td>Send job commands using a REST interface over HTTPS, via port 4404.</td> \n",
    "  </tr>\n",
    "    <tr>\n",
    "    <td> \n",
    "        <ul>\n",
    "          <li>Jobserver service to Jobserver database</li>\n",
    "        </ul> \n",
    "    </td>\n",
    "    <td>Send SQL statements over JDBC via port 4414.</td> \n",
    "  </tr>\n",
    "    <tr>\n",
    "    <td> \n",
    "        <ul>\n",
    "          <li>Agent to Monitoring service</li>\n",
    "          <li>Monitoring service to DGC service</li>\n",
    "        </ul> \n",
    "    </td>\n",
    "    <td>Send job commands using REST interface over HTTPS via port 4407. Monitoring service connects to DGC via port 4400</td> \n",
    "  </tr>\n",
    "</table> "
   ]
  },
  {
   "cell_type": "markdown",
   "metadata": {},
   "source": [
    "### DGC service architecture\n",
    "![title](CollibraServiceArchitecture.png \"ShowMyImage\")\n",
    "\n",
    "- prepackaged DGC installer contains:\n",
    "    - application server\n",
    "    - repository database (and service)\n",
    "    - APIs\n",
    "    \n",
    "- Connect and On-the-go are separate products"
   ]
  },
  {
   "cell_type": "markdown",
   "metadata": {},
   "source": [
    "## DGC service\n",
    "### APIs\n",
    "- DGC service contains the business logic as an web application built in Java\n",
    "- Public REST API enables custom build products (collibra clients using the same API), all Java API methods are available by the REST API\n",
    "    - https://yourdgcinstance.yourcompany.com/docs/index.html\n",
    "- Import/Export, Views, Queries API for manipulating application data \n",
    "    - Supported formats are JSON, XML, CSV and Excel\n",
    "    - Methods are integrated in the public REST API \n",
    "    - Can be integrated into ETL or ESB applications\n",
    "- Search API\n",
    "    - able to search for data in collibra (same API as used by Collibra-on-the-go\n",
    "- BPMN 2.0 workflow engine\n",
    "    - The workflow engine, Activiti, supports the execution of BPMN 2.0 (Business Process Model and Notation) processes. The prepackaged workflows are completely configurable \n",
    "    - add, modify, and deploy the workflows \n",
    "    - Worfklow service tasks can use the available Java API, which enables you to automate various application tasks, like email notification, creating comments, adding assets, and so on.\n",
    "\n",
    "### Data\n",
    "- All data is stored in the repository\n",
    "- Product metadata (temporary files, log files, license file) is stored in the Collibra data directory \n",
    "    - /opt/collibra_data (Linux) or C:\\-collibra_data (Windows).\n",
    "    - contains subdirectories\n",
    "        - <b>dgc</b>: Collibra DGC service\n",
    "            - Configuration files, necessary to run the product:\n",
    "                - The <b>config</b> directory contains the configuration files used by Collibra DGC.\n",
    "                - The <b>collibra.license</b> is the license file that has been uploaded in Collibra Console.\n",
    "            - logs directory contains the log files produced by the DGC service\n",
    "            - dirs like <b>cache</b>, <b>uploads</b>, <b>indexes</b> contain tmp files which can be removed during server restart \n",
    "                - uploads contains temporary the attached files uploaded by the user (will be permanently stored in the repo)\n",
    "            - customization directories\n",
    "                - <b>email-templates</b> Used to override the built-in email templates to customize the emails that are sent to the users.\n",
    "                - <b>translations</b> Used to override the built-in user interface labels and to add new languages. you can also do this in the Settings in the web user interface.\n",
    "                - <b>page-definitions</b> Used to override page definitions. \n",
    "                - <b>modules</b> Custom UI modules to extend or override the existing UI.\n",
    "                - <b>styling</b> Used to override the CSS styling of the web interface.\n",
    "                - <b>groovy-lib</b> Contains additional Groovy library functions to be used in validation rules.\n",
    "                - <b>images</b> Contains images that can be referenced directly as a URL, for example to set another logo.\n",
    "                - <b>security</b> Used for SSL and SAML support.\n",
    "        - <b>repo</b>: Collibra Repository service\n",
    "        - <b>console</b>: Collibra Console\n",
    "        - <b>agent</b>: Collibra DGC Agent"
   ]
  },
  {
   "cell_type": "markdown",
   "metadata": {},
   "source": [
    "## Repository service\n",
    "- Embedded PostgreSQL, managed by Collibra Console and Agent\n",
    "- Consolte is maintaining the database periodically\n",
    "### Data\n",
    "- repository is located in /opt/collibra_data/repo (Linux) or C:\\collibra_data\\repo (Windows) \n",
    "- subdirectories\n",
    "    - <b>logs</b> contains log files\n",
    "    - <b>data</b> besides the data it contains the postgresql.conf file for configuration of the PostgreSQL database (manual changes are not supported!)"
   ]
  },
  {
   "cell_type": "markdown",
   "metadata": {},
   "source": [
    "Another way to maintain and manipulation of data: \n",
    "https://docs.microsoft.com/de-de/sql/integration-services/import-export-data/connect-to-a-postgresql-data-source-sql-server-import-and-export-wizard?view=sql-server-2017"
   ]
  },
  {
   "cell_type": "markdown",
   "metadata": {},
   "source": [
    "## Console\n",
    "- Java web app\n",
    "- Does not need other components to run\n",
    "- Uses local file-based database\n",
    "### Data\n",
    "- Data from Console is stored in <b>/opt/collibra_data/console</b> (Linux) or <b>C:\\collibra_data\\console</b> (Windows)\n",
    "- Identical file struct like DGC service except for these two additional dirs\n",
    "    - <b>backups</b>: for backups taken by Console\n",
    "    - <b>data.mv.db</b>: contains information about the embedded local database (not the database itself)"
   ]
  },
  {
   "cell_type": "markdown",
   "metadata": {},
   "source": [
    "## Jobserver service\n",
    "- app which relies on Apache Spark for CPU memory intensive computations\n",
    "- Jobserver acts as the interface between DGC service and Spark\n",
    "    - Jobserver sends Spark job executions via REST API\n",
    "    - Jobserver controlls the single Spark jobs and data used by Spark\n",
    "- Jobserver is used for <b>data profiling</b> for the <b>Catalog application</b>\n",
    "- Background: A profiling operation starts a Java VM by the Jobserver which contains the Spark context. The profiling execution runs within the JVM and returns the results via the Jobserver to the DGC service. \n",
    "- <b>Only one profiling op</b> can be run at a time. \n",
    "    - Jobserver is managed by the Console trough an agent\n",
    "\n",
    "### Data\n",
    "- <b>/opt/collibra_data/jobserver</b> (Linux) or <b>C:\\collibra_data\\jobserver</b> (Windows)\n",
    "- sub dir\n",
    "    - <b>logs</b>: contains logfiles\n",
    "    - <b>data</b>: contains data used during runtime, but nothing essential for the app to maintain\n",
    "    - <b>config</b>: Jobserver configs\n",
    "    - <b>security</b>: contains public and private keys needed to use SSL for Jobserver communication via REST API (of the Jobserver)\n",
    "\n",
    "### Memory and CPU usage"
   ]
  },
  {
   "cell_type": "markdown",
   "metadata": {},
   "source": [
    "# Installation/Deinstallation\n",
    "## Installation"
   ]
  },
  {
   "cell_type": "markdown",
   "metadata": {},
   "source": [
    "### Preparation\n",
    "Change permissions"
   ]
  },
  {
   "cell_type": "code",
   "execution_count": null,
   "metadata": {
    "collapsed": true
   },
   "outputs": [],
   "source": [
    "!chmod a+x dgc-linux-5.4.3-FINAL.sh"
   ]
  },
  {
   "cell_type": "markdown",
   "metadata": {},
   "source": [
    "### Installation of collibra components\n",
    "Test"
   ]
  },
  {
   "cell_type": "markdown",
   "metadata": {},
   "source": [
    "### First use\n",
    "- Console is accessible via the url: http://urlinstance:4402/contextpath\n",
    "- Console admin is \"Admin\" and initial password is \"admin\"\n",
    "- Change initial passwort\n",
    "- Rename Environment\n",
    "- Start environment "
   ]
  },
  {
   "cell_type": "markdown",
   "metadata": {},
   "source": [
    "### Troubleshooting\n",
    "- If console wont start, try a reboot first\n",
    "- ContextPath wont work for DGC right now"
   ]
  },
  {
   "cell_type": "markdown",
   "metadata": {},
   "source": [
    "## Migration\n"
   ]
  },
  {
   "cell_type": "markdown",
   "metadata": {},
   "source": [
    "## Maintain\n",
    "- check the services on server"
   ]
  },
  {
   "cell_type": "code",
   "execution_count": null,
   "metadata": {
    "collapsed": true
   },
   "outputs": [],
   "source": [
    "!service collibra-console status\n",
    "!service collibra-agent status"
   ]
  },
  {
   "cell_type": "markdown",
   "metadata": {},
   "source": [
    "- more commands are for these two services are\n",
    "    - stop\n",
    "    - start\n",
    "    - restart"
   ]
  },
  {
   "cell_type": "markdown",
   "metadata": {},
   "source": [
    "## Deinstallation"
   ]
  },
  {
   "cell_type": "code",
   "execution_count": 1,
   "metadata": {},
   "outputs": [
    {
     "name": "stdout",
     "output_type": "stream",
     "text": [
      "[sudo] password for gleuschel: \n",
      "/bin/sh: 1: Syntax error: end of file unexpected\n"
     ]
    }
   ],
   "source": [
    "#change user to root\n",
    "!sudo -s\n",
    "#change back\n",
    "!sudo -s -u <user>"
   ]
  },
  {
   "cell_type": "markdown",
   "metadata": {},
   "source": [
    "1. Go to the installation directory\n",
    "    1.1 Default location on Linux with root permissions: /opt/collibra\n",
    "    1.2 Default location on Linux without root permissions: ~/collibra\n",
    "2. Start the uninstall script:\n",
    "    2.1 Uninstall with root permissions: sudo ./uninstall.sh\n",
    "    2.2 Uninstall without root permissions: ./uninstall.sh"
   ]
  },
  {
   "cell_type": "markdown",
   "metadata": {},
   "source": [
    "# Create Docker Image\n",
    "1. Create dockerfile \n",
    "\n",
    "\n",
    "- run build command"
   ]
  },
  {
   "cell_type": "code",
   "execution_count": 1,
   "metadata": {},
   "outputs": [
    {
     "name": "stderr",
     "output_type": "stream",
     "text": [
      "Der Befehl \"docker\" ist entweder falsch geschrieben oder\n",
      "konnte nicht gefunden werden.\n"
     ]
    }
   ],
   "source": [
    "!docker build -t collibra:5.4.3 ./"
   ]
  }
 ],
 "metadata": {
  "kernelspec": {
   "display_name": "Python 3",
   "language": "python",
   "name": "python3"
  },
  "language_info": {
   "codemirror_mode": {
    "name": "ipython",
    "version": 3
   },
   "file_extension": ".py",
   "mimetype": "text/x-python",
   "name": "python",
   "nbconvert_exporter": "python",
   "pygments_lexer": "ipython3",
   "version": "3.6.5"
  },
  "toc": {
   "base_numbering": 1,
   "nav_menu": {
    "height": "156px",
    "width": "231px"
   },
   "number_sections": true,
   "sideBar": true,
   "skip_h1_title": false,
   "title_cell": "Table of Contents",
   "title_sidebar": "Contents",
   "toc_cell": false,
   "toc_position": {
    "height": "751px",
    "left": "55px",
    "top": "127.14px",
    "width": "389px"
   },
   "toc_section_display": true,
   "toc_window_display": true
  }
 },
 "nbformat": 4,
 "nbformat_minor": 2
}
