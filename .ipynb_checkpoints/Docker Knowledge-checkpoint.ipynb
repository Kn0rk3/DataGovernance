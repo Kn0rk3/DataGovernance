{
 "cells": [
  {
   "cell_type": "markdown",
   "metadata": {},
   "source": [
    "# Docker Basics\n",
    "https://docs.docker.com/\n",
    "\n",
    "https://jaxenter.de/einfuehrung-docker-tutorial-container-61528\n",
    "## Docker Images\n",
    "- prepared images for docker container can be found here: https://hub.docker.com\n",
    "## Docker Storage\n",
    "![title](types-of-mounts-volume.png \"DockerStorage\")\n",
    "- 3 types of storages for docker container"
   ]
  },
  {
   "cell_type": "markdown",
   "metadata": {},
   "source": [
    "### Volumes\n",
    "- Volumes are used to persist data from and for docker container in a space managed by docker itself\n",
    "    - Linux /var/lib/docker/volumes/\n",
    "- Best way to persist datat in Docker\n",
    "- Cannot be modified by non-docker processes on the host   "
   ]
  },
  {
   "cell_type": "markdown",
   "metadata": {},
   "source": [
    "### Bind mounts\n",
    "- can be stored anywhere on the host system\n",
    "- can be modified by docker processes and non-docker processes on the host"
   ]
  },
  {
   "cell_type": "markdown",
   "metadata": {},
   "source": [
    "# Docker Commands\n"
   ]
  },
  {
   "cell_type": "markdown",
   "metadata": {},
   "source": [
    "#  Docker Container\n",
    "## MSSQL\n",
    "https://hub.docker.com/r/microsoft/mssql-server-linux/\n",
    "- to prevent expired license use the GA dockerfile"
   ]
  },
  {
   "cell_type": "code",
   "execution_count": 2,
   "metadata": {
    "collapsed": false
   },
   "outputs": [
    {
     "name": "stderr",
     "output_type": "stream",
     "text": [
      "Der Befehl \"docker\" ist entweder falsch geschrieben oder\n",
      "konnte nicht gefunden werden.\n"
     ]
    }
   ],
   "source": [
    "# get image GA\n",
    "!docker pull microsoft/mssql-server-linux:2017-GA"
   ]
  },
  {
   "cell_type": "code",
   "execution_count": null,
   "metadata": {
    "collapsed": true
   },
   "outputs": [],
   "source": [
    "# create container from image\n",
    "!docker run -e 'ACCEPT_EULA=Y' -e 'SA_PASSWORD=password' -p 1433:1433 -d microsoft/mssql-server-linux:2017-GA\n",
    "        \n",
    "!docker run -v '/home/gleuschel/Documents/ShareToSQLDocker:/app/bigIDFiles' -e 'ACCEPT_EULA=Y' -e 'MSSQL_SA_PASSWORD=Technocrat123' -e 'MSSQL_PID=Developer' --cap-add SYS_PTRACE -p 1433:1433 -d microsoft/mssql-server-linux:2017-GA"
   ]
  },
  {
   "cell_type": "markdown",
   "metadata": {},
   "source": [
    "- acess the SQL Server via MS SQL Management Studio \n",
    "- Server access via IP without specific port "
   ]
  },
  {
   "cell_type": "markdown",
   "metadata": {},
   "source": [
    "# Docker Update"
   ]
  },
  {
   "cell_type": "code",
   "execution_count": null,
   "metadata": {
    "collapsed": true
   },
   "outputs": [],
   "source": [
    "!sudo apt-get update"
   ]
  },
  {
   "cell_type": "code",
   "execution_count": null,
   "metadata": {
    "collapsed": true
   },
   "outputs": [],
   "source": [
    "!sudo apt-get install apt-transport-https ca-certificates curl software-properties-common"
   ]
  },
  {
   "cell_type": "code",
   "execution_count": null,
   "metadata": {
    "collapsed": true
   },
   "outputs": [],
   "source": [
    "# add the docker GPG key\n",
    "!curl -fsSL https://download.docker.com/linux/ubuntu/gpg | sudo apt-key add -"
   ]
  },
  {
   "cell_type": "code",
   "execution_count": null,
   "metadata": {
    "collapsed": true
   },
   "outputs": [],
   "source": [
    "# check for fingerprint of docker in repo\n",
    "!sudo apt-key fingerprint 0EBFCD88"
   ]
  },
  {
   "cell_type": "code",
   "execution_count": null,
   "metadata": {
    "collapsed": true
   },
   "outputs": [],
   "source": [
    "!sudo add-apt-repository \"deb [arch=amd64] https://download.docker.com/linux/ubuntu $(lsb_release -cs) stable\""
   ]
  },
  {
   "cell_type": "code",
   "execution_count": null,
   "metadata": {
    "collapsed": true
   },
   "outputs": [],
   "source": [
    "!sudo apt-get update\n",
    "# list all versions of docker in repo\n",
    "!apt-cache madison docker-ce"
   ]
  },
  {
   "cell_type": "code",
   "execution_count": null,
   "metadata": {
    "collapsed": true
   },
   "outputs": [],
   "source": [
    "!sudo apt-get install docker-ce=18.06.1~ce~3-0~ubuntu"
   ]
  },
  {
   "cell_type": "markdown",
   "metadata": {},
   "source": [
    "# Create Image\n",
    "https://docs.docker.com/develop/develop-images/dockerfile_best-practices/\n",
    "https://www.modius-techblog.de/devops/eigenes-docker-images-mit-dockerfile-erstellen/?cookie-state-change=1535405420241"
   ]
  }
 ],
 "metadata": {
  "kernelspec": {
   "display_name": "Python 3",
   "language": "python",
   "name": "python3"
  },
  "language_info": {
   "codemirror_mode": {
    "name": "ipython",
    "version": 3
   },
   "file_extension": ".py",
   "mimetype": "text/x-python",
   "name": "python",
   "nbconvert_exporter": "python",
   "pygments_lexer": "ipython3",
   "version": "3.5.2"
  },
  "toc": {
   "base_numbering": 1,
   "nav_menu": {
    "height": "265px",
    "width": "288px"
   },
   "number_sections": true,
   "sideBar": true,
   "skip_h1_title": false,
   "title_cell": "Table of Contents",
   "title_sidebar": "Contents",
   "toc_cell": false,
   "toc_position": {},
   "toc_section_display": true,
   "toc_window_display": true
  }
 },
 "nbformat": 4,
 "nbformat_minor": 2
}
