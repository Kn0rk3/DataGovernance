{
 "cells": [
  {
   "cell_type": "markdown",
   "metadata": {
    "collapsed": false
   },
   "source": [
    "- DGC port 4400\n",
    "- DGC shutdown port 4430\n",
    "- DGC path \"development\"\n",
    "- Repo port 4403\n",
    "- Repo admin pw \"admin\"\n",
    "- Repo dgc password \"dgcdev\"\n",
    "- Jobserver port 4404\n",
    "- Agent port 4401\n",
    "- Console port 4402\n",
    "- Console context path \"development\"\n",
    "\n",
    "\n",
    "- IP address for NAT on host\n",
    "    192.168.136.131\n",
    "    \n",
    "- environment XDI DEV"
   ]
  }
 ],
 "metadata": {
  "kernelspec": {
   "display_name": "Python 3",
   "language": "python",
   "name": "python3"
  },
  "language_info": {
   "codemirror_mode": {
    "name": "ipython",
    "version": 3
   },
   "file_extension": ".py",
   "mimetype": "text/x-python",
   "name": "python",
   "nbconvert_exporter": "python",
   "pygments_lexer": "ipython3",
   "version": "3.5.2"
  },
  "toc": {
   "base_numbering": 1,
   "nav_menu": {},
   "number_sections": true,
   "sideBar": true,
   "skip_h1_title": false,
   "title_cell": "Table of Contents",
   "title_sidebar": "Contents",
   "toc_cell": false,
   "toc_position": {},
   "toc_section_display": true,
   "toc_window_display": false
  }
 },
 "nbformat": 4,
 "nbformat_minor": 2
}
