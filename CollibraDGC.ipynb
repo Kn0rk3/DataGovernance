{
 "cells": [
  {
   "cell_type": "markdown",
   "metadata": {},
   "source": [
    "# Basics\n",
    "- Business Terms are case sensitive\n",
    "\n",
    "\n",
    "\n",
    "\n",
    "\n",
    "\n"
   ]
  },
  {
   "cell_type": "markdown",
   "metadata": {},
   "source": [
    "# Data Governance Operating Model\n",
    "- Operating Model analog to an OS \n",
    "    - OS and third party apps constrain types of files = <b>asset types</b>\n",
    "    - folder structure are <b>communities</b> and <b>domains</b> and enable modification and publishing of the content (files = <b>assets, relations, attributes</b>\n",
    "\n",
    "![title](pics/dgoModel.png \"ShowMyImage\")\n",
    "\n",
    "\n"
   ]
  },
  {
   "cell_type": "markdown",
   "metadata": {},
   "source": [
    "## WHO - Organizational Concept\n",
    "Who governs the data?\n",
    "\n",
    "### Communities\n",
    "- Communities represent different groups of people who own certain domains\n",
    "    - globally unique name\n",
    "    - define organisational structure\n",
    "    - responsible for specific types of assets\n",
    "    - defines context for content\n",
    "- communities are organized as the company with its departments\n",
    "- two <b>ootb</b> communities\n",
    "    - One is the Data Governance Council Community, which is basically the default, where if somebody would propose a new business term out of the box, well there’s no community to go to yet. I can’t say, “Well, this belongs on the finance or HR or so, because we didn’t define this yet. It’s going to default under this community, under the new business terms.\n",
    "    <img src=\"pics/ootbCommunityDGC.png\" alt=\"drawing\" width=\"400\"/>\n",
    "    - Business Analyst Community. If I create a new data set, or if I ingest technical metadata, physical metadata, is going to come here, under my Schemas, and the Logical Data Sets, is all going to come here.\n",
    "    <img src=\"pics/ootbCommunityBAC.png\" alt=\"drawing\" width=\"400\"/>\n",
    "    \n",
    "### Domains\n",
    "- logical group ad assets according to their function, project or knowledge area\n",
    "- Every domain is owned by exactly ONE community\n",
    "    - But you can create a domain for a parent or many similiar for each sub community\n",
    "    - for example a Glossary is mostly a domain for a root domain, because this needs to be a global directory\n",
    "- Domain is the instance of exactly one domain type\n",
    "\n",
    "### Domain Type\n",
    "- domain type defines which types of assets can be stored in this domain\n",
    "- 7 types are in DGC ootb\n",
    "\n",
    "<img src=\"pics/domainTypes551.png\" alt=\"drawing\" width=\"400\"/>"
   ]
  },
  {
   "cell_type": "markdown",
   "metadata": {},
   "source": [
    "<table style=\"width:100%\">\n",
    "  <tr>\n",
    "    <th>type</th>\n",
    "    <th>description</th> \n",
    "  </tr>\n",
    "  <tr>\n",
    "    <td>Glossary</td>\n",
    "    <td>\n",
    "        <ul>\n",
    "          <li>A prioritized list of Business Terms, Acronyms and their meanings</li>\n",
    "        </ul> \n",
    "    </td> \n",
    "  </tr>\n",
    "  <tr>\n",
    "    <td>Business Asset Domain</td>\n",
    "    <td>Groups following domain types \n",
    "        <ul>\n",
    "        <li><b>Business Asset Domain</b>: Groups Assets of the type Business Assets</li>\n",
    "          <li><b>Business Dimensions</b>: A set of Business Dimensions that categorize and describe Business Terms</li>\n",
    "          <li><b>Report Catalog</b>: A collection of reports and their definitions with the list of related Report attributes</li>\n",
    "        </ul> \n",
    "    </td> \n",
    "  </tr>\n",
    "  <tr>\n",
    "    <td> \n",
    "        Codelist\n",
    "    </td>\n",
    "    <td>Groups following domain types \n",
    "        <ul>\n",
    "        <li><b>Codelist</b>: Any kind of data that is used solely to categorize other data found in a database, or solely for relating data in a database to information beyond the boundaries of the enterprise.\n",
    "        For example: country codes, language codes, product codes, account identifiers and many more.</li>\n",
    "          <li><b>Hierarchies</b>: A Code list with a hierarchical structure in its Code Values</li>\n",
    "        </ul>\n",
    "        </td> \n",
    "    </tr>\n",
    "    <tr>\n",
    "    <td> \n",
    "          Data Asset Domain\n",
    "    </td>\n",
    "        <td>Groups following domain types \n",
    "        <ul>\n",
    "        <li><b>Data Asset Domain</b>: Groups asset with the type Data Element</li>\n",
    "        <li><b>Data Usage Registry</b>: A Collection of Data usage agreements and related Data structures</li>\n",
    "          <li><b>Logical Data Dictionary</b>: Represents details of organizational data, independent of any particular technology and uses vocabulary of a business area to communicate with non-technical stakeholders (Assets with the type Data Attribute, Entity or Model)</li>\n",
    "          <li><b>Mapping Domain</b>: Groups Data Assets of the type Crosswalk (to map between Code Sets) and Mapping Specification (used to map between Data Structures).</li>\n",
    "          <li><b>Physical Data Dictionary</b>: A collection of physical objects like Table, Column, file field, Views, APIs to describe how data is stored, arranged and related to each other in a data storage technology/location</li>\n",
    "        </ul>\n",
    "        </td> \n",
    "  </tr>\n",
    "    <tr>\n",
    "    <td> \n",
    "        Technology Asset Domain\n",
    "    </td>\n",
    "    <td>\n",
    "        <ul>\n",
    "          <li>An inventory of all Technology assets and their business benefits.</li>\n",
    "        </ul> \n",
    "    </td> \n",
    " </tr>\n",
    "     <tr>\n",
    "    <td> \n",
    "        Governance Asset Domain\n",
    "    </td>\n",
    "    <td>Groups following domain types \n",
    "        <ul>\n",
    "        <li><b>Governance Asset Domain</b>: Groups asset with the type Governance Asset and Data Quality Dimension</li>\n",
    "        <li><b>Policy Domain</b>: A set of policies and standards related to an organization</li>\n",
    "          <li><b>Rulebook</b>: A set of rules on the basis of which decisions are made and programs or policies are governed</li>\n",
    "        </ul>\n",
    "        </td> \n",
    " </tr>\n",
    "       <tr>\n",
    "    <td> \n",
    "       Validation Rule Domain\n",
    "    </td>\n",
    "    <td>\n",
    "        <ul>\n",
    "          <li></li>\n",
    "        </ul> \n",
    "    </td> \n",
    "  </tr>\n",
    "     <tr>\n",
    "    <td> \n",
    "       S3 Catalog\n",
    "    </td>\n",
    "    <td>\n",
    "        <ul>\n",
    "          <li>A collection of Amazon S3 (Simple Storage Service) related assets.</li>\n",
    "        </ul> \n",
    "    </td> \n",
    "  </tr>\n",
    "  <tr>\n",
    "    <td> \n",
    "       Tableau Catalog\n",
    "    </td>\n",
    "    <td>\n",
    "        <ul>\n",
    "          <li>A collection of Tableau assets with the list of related attributes.</li>\n",
    "        </ul> \n",
    "    </td> \n",
    "  </tr>\n",
    "</table>"
   ]
  },
  {
   "cell_type": "markdown",
   "metadata": {},
   "source": [
    "## WHAT - Structural Concept  \n",
    "What is to be governed?\n",
    "### Asset\n",
    "= fundamental building block which captures the relevant information of the companies\n",
    "- belongs to exactly one domain (unique name within the domain)\n",
    "- is an instance of one asset type\n",
    "- has <b>characteristics</b> (like <b>relations</b> or <b>attributes</b>)\n",
    "\n",
    "### Asset Type\n",
    "= groups assets and defines the semantic of an asst in terms of <b>attribute types</b> and <b>relation types</b>\n",
    "It is like a template (abstract object) of which one creates a instance \n",
    "Examples:\n",
    "- ‘Personal Privacy Policy’ is the name of an asset of type ‘Policy’. \n",
    "- ‘Customer’ is the name of an asset of type ‘Business Term’.\n",
    "- ‘CRM’ is the name of an asset of type ‘System’.\n",
    "<img src=\"pics/assetTypes.png\" alt=\"drawing\" />"
   ]
  },
  {
   "cell_type": "markdown",
   "metadata": {},
   "source": [
    "#### Core Asset Type Business Asst\n",
    "<img src=\"pics/assetTypesBusinessAsset.png\" alt=\"drawing\" width=\"230\" />\n",
    "<table style=\"width:100%\">\n",
    "    <tr>\n",
    "        \n",
    "        <th>asset type</th>\n",
    "        <th>assigned domain type</th>\n",
    "    </tr>\n",
    "    <tr>\n",
    "        <td><b>Business Asset:</b> A type of asset that is exclusively used and governed by the business user community. Its instance assets, and all instances instantiating its subtypes, pertain to the business organization. Business assets typically include business concepts like Business Term, Business Process, Line of Business, etc. that help to build the semantics of any organization with insufficient details to build an actual business application.</td>\n",
    "        <td>Business Asset Domain</td>\n",
    "    </tr>\n",
    "    <tr>\n",
    "        <td><b>Business Dimension:</b> A set of reference information that categorizes and describes a Business Term in such a way that it provides context and meaningful answers to business questions. Examples: Business Process, Line of Business, Region, Business Capability</td>\n",
    "        <td>Business Asset Domain</td>\n",
    "    </tr>\n",
    "    <tr>\n",
    "        <td><b>Business Process:</b> A set of activities and tasks that, once completed, produce a specific result and added value to the business. Examples: Campaign Management, Talent Recruitment & Staffing</td>\n",
    "        <td>Business Dimensions</td>\n",
    "    </tr>\n",
    "</table>"
   ]
  },
  {
   "cell_type": "markdown",
   "metadata": {},
   "source": [
    "Example for assets in DGC:\n",
    " <img src=\"pics/assetsExamples.png\" alt=\"drawing\" width=\"400\"/>"
   ]
  },
  {
   "cell_type": "markdown",
   "metadata": {},
   "source": [
    "## ERM DGC Collibra\n",
    "- The green marked entities represent the collibra data modell of the DGC and is the same for all installations. These objects are like abstract objects in Java, which represent templates for the real instances of the objects. \n",
    "- The blue marked entities represent the instances of the green marked objects in DGC and can be different for every customer. \n",
    "![title](pics/ERModellCollibraOwn.png \"ShowMyImage\")"
   ]
  },
  {
   "cell_type": "markdown",
   "metadata": {},
   "source": []
  },
  {
   "cell_type": "markdown",
   "metadata": {},
   "source": [
    "## HOW - Execution and Monitoring Concepts\n",
    "How is it to be governed?"
   ]
  },
  {
   "cell_type": "markdown",
   "metadata": {},
   "source": []
  },
  {
   "cell_type": "markdown",
   "metadata": {},
   "source": [
    "# Data Governance Operating Model Design Procedure (OMDP)\n",
    "https://university.collibra.com/knowledge/collibra-body-of-knowledge/data-governance-operating-model/#DataGovernanceOperatingModel-DataGovernanceOperatingModelDesignProcedure\n",
    "\n",
    "## Identitfy communities and domains\n",
    "## Transform familiar examples into Asset Types, Attribute Types and Relation Types\n",
    "## Validate the identified types with other examples\n",
    "## Check for types to be combined\n",
    "## Add constraints and validation rules\n",
    "## Determine status types for all identified asset types\n",
    "## Determine role types for all identified asset types\n",
    "## Design and implement execution and monitoring workflows"
   ]
  },
  {
   "cell_type": "markdown",
   "metadata": {},
   "source": [
    "# Business Glossary\n",
    "- collection of\n",
    "    - Business terminologies\n",
    "    - Taxonomies (classification of terms)\n",
    "    - Hierarchies (hierarchy of terms)"
   ]
  },
  {
   "cell_type": "markdown",
   "metadata": {},
   "source": [
    "# Reference Cases"
   ]
  },
  {
   "cell_type": "markdown",
   "metadata": {},
   "source": [
    "## Reference Data Management Case\n",
    "https://university.collibra.com/knowledge/collibra-body-of-knowledge/data-stewardship/reference-data-management/reference-data-management-case/"
   ]
  }
 ],
 "metadata": {
  "kernelspec": {
   "display_name": "Python 3",
   "language": "python",
   "name": "python3"
  },
  "language_info": {
   "codemirror_mode": {
    "name": "ipython",
    "version": 3
   },
   "file_extension": ".py",
   "mimetype": "text/x-python",
   "name": "python",
   "nbconvert_exporter": "python",
   "pygments_lexer": "ipython3",
   "version": "3.5.2"
  },
  "toc": {
   "base_numbering": 1,
   "nav_menu": {
    "height": "203px",
    "width": "199px"
   },
   "number_sections": true,
   "sideBar": true,
   "skip_h1_title": false,
   "title_cell": "Table of Contents",
   "title_sidebar": "Contents",
   "toc_cell": false,
   "toc_position": {},
   "toc_section_display": true,
   "toc_window_display": true
  }
 },
 "nbformat": 4,
 "nbformat_minor": 2
}
