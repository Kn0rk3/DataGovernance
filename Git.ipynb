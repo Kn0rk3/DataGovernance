{
 "cells": [
  {
   "cell_type": "code",
   "execution_count": null,
   "metadata": {},
   "outputs": [],
   "source": [
    "!cd ~/DataGovernance\n",
    "# navigate into local repo\n",
    "!git pull\n",
    "# gets newest version from remote repo\n",
    "!git add ArchitectureEnvCollibra551.png\n",
    "# adds file to git repo\n",
    "!git commit -m \"changes\"\n",
    "# creates a commit (local)\n",
    "!git commit -a -m \"changes\"\n",
    "# creates a commit with all files in the current directory\n",
    "!git push\n",
    "# pushes the changes to remote repo"
   ]
  }
 ],
 "metadata": {
  "kernelspec": {
   "display_name": "Python 3",
   "language": "python",
   "name": "python3"
  },
  "language_info": {
   "codemirror_mode": {
    "name": "ipython",
    "version": 3
   },
   "file_extension": ".py",
   "mimetype": "text/x-python",
   "name": "python",
   "nbconvert_exporter": "python",
   "pygments_lexer": "ipython3",
   "version": "3.6.5"
  }
 },
 "nbformat": 4,
 "nbformat_minor": 2
}
